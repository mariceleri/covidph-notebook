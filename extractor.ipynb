{
 "cells": [
  {
   "cell_type": "code",
   "execution_count": 1,
   "metadata": {},
   "outputs": [],
   "source": [
    "import pandas as pd"
   ]
  },
  {
   "cell_type": "code",
   "execution_count": 22,
   "metadata": {},
   "outputs": [],
   "source": [
    "excel_file='20200512.xlsx'\n",
    "raw=pd.read_excel(io=excel_file, sheet_name=2)"
   ]
  },
  {
   "cell_type": "code",
   "execution_count": 24,
   "metadata": {},
   "outputs": [],
   "source": [
    "# Drop columns\n",
    "dropped=raw.drop(columns=['CaseCode','Age','AgeGroup','DateDied','DateRecover','Sex','DateRepRem','DateRepConf','Admitted','Quarantined','HealthStatus'])\n",
    "# Remame columns\n",
    "renamed=dropped.rename(columns={'RemovalType':'removal_type','RegionRes':'region','ProvRes':'province','CityMunRes':'city_municipality','CityMuniPSGC':'location_code'})"
   ]
  },
  {
   "cell_type": "code",
   "execution_count": 47,
   "metadata": {},
   "outputs": [],
   "source": [
    "# This section will extract the codes and create a mapping"
   ]
  },
  {
   "cell_type": "code",
   "execution_count": 52,
   "metadata": {},
   "outputs": [],
   "source": [
    "uniques=renamed.drop_duplicates(subset='location_code')\n",
    "uniques.dropna(subset=['location_code'], inplace=True)"
   ]
  },
  {
   "cell_type": "code",
   "execution_count": 51,
   "metadata": {},
   "outputs": [
    {
     "output_type": "execute_result",
     "data": {
      "text/plain": "                                name\ncode                                \n01           Region I: Ilocos Region\n02         Region II: Cagayan Valley\n03         Region III: Central Luzon\n04           Region IV-A: CALABARZON\n05            Region V: Bicol Region\n06        Region VI: Western Visayas\n07       Region VII: Central Visayas\n08      Region VIII: Eastern Visayas\n09    Region IX: Zamboanga Peninsula\n10       Region X: Northern Mindanao\n11           Region XI: Davao Region\n12          Region XII: SOCCSKSARGEN\n13                               NCR\n14                               CAR\n15                             BARMM\n16                            CARAGA\n17             Region IV-B: MIMAROPA",
      "text/html": "<div>\n<style scoped>\n    .dataframe tbody tr th:only-of-type {\n        vertical-align: middle;\n    }\n\n    .dataframe tbody tr th {\n        vertical-align: top;\n    }\n\n    .dataframe thead th {\n        text-align: right;\n    }\n</style>\n<table border=\"1\" class=\"dataframe\">\n  <thead>\n    <tr style=\"text-align: right;\">\n      <th></th>\n      <th>name</th>\n    </tr>\n    <tr>\n      <th>code</th>\n      <th></th>\n    </tr>\n  </thead>\n  <tbody>\n    <tr>\n      <th>01</th>\n      <td>Region I: Ilocos Region</td>\n    </tr>\n    <tr>\n      <th>02</th>\n      <td>Region II: Cagayan Valley</td>\n    </tr>\n    <tr>\n      <th>03</th>\n      <td>Region III: Central Luzon</td>\n    </tr>\n    <tr>\n      <th>04</th>\n      <td>Region IV-A: CALABARZON</td>\n    </tr>\n    <tr>\n      <th>05</th>\n      <td>Region V: Bicol Region</td>\n    </tr>\n    <tr>\n      <th>06</th>\n      <td>Region VI: Western Visayas</td>\n    </tr>\n    <tr>\n      <th>07</th>\n      <td>Region VII: Central Visayas</td>\n    </tr>\n    <tr>\n      <th>08</th>\n      <td>Region VIII: Eastern Visayas</td>\n    </tr>\n    <tr>\n      <th>09</th>\n      <td>Region IX: Zamboanga Peninsula</td>\n    </tr>\n    <tr>\n      <th>10</th>\n      <td>Region X: Northern Mindanao</td>\n    </tr>\n    <tr>\n      <th>11</th>\n      <td>Region XI: Davao Region</td>\n    </tr>\n    <tr>\n      <th>12</th>\n      <td>Region XII: SOCCSKSARGEN</td>\n    </tr>\n    <tr>\n      <th>13</th>\n      <td>NCR</td>\n    </tr>\n    <tr>\n      <th>14</th>\n      <td>CAR</td>\n    </tr>\n    <tr>\n      <th>15</th>\n      <td>BARMM</td>\n    </tr>\n    <tr>\n      <th>16</th>\n      <td>CARAGA</td>\n    </tr>\n    <tr>\n      <th>17</th>\n      <td>Region IV-B: MIMAROPA</td>\n    </tr>\n  </tbody>\n</table>\n</div>"
     },
     "metadata": {},
     "execution_count": 51
    }
   ],
   "source": [
    "region_codes=pd.DataFrame()\n",
    "region_codes['code']=uniques['location_code'].str[2:4]\n",
    "region_codes['name']=uniques['region']\n",
    "region_codes.drop_duplicates(subset='code', inplace=True)\n",
    "region_codes.set_index('code', inplace=True)\n",
    "region_codes.sort_index()"
   ]
  },
  {
   "cell_type": "code",
   "execution_count": 58,
   "metadata": {},
   "outputs": [
    {
     "output_type": "execute_result",
     "data": {
      "text/plain": "                   name\ncode                   \n01                 ABRA\n02     AGUSAN DEL NORTE\n04                AKLAN\n05                ALBAY\n06              ANTIQUE\n...                 ...\n76                  NCR\n79             GUIMARAS\n82    COMPOSTELA VALLEY\n86     DAVAO OCCIDENTAL\n98             COTABATO\n\n[65 rows x 1 columns]",
      "text/html": "<div>\n<style scoped>\n    .dataframe tbody tr th:only-of-type {\n        vertical-align: middle;\n    }\n\n    .dataframe tbody tr th {\n        vertical-align: top;\n    }\n\n    .dataframe thead th {\n        text-align: right;\n    }\n</style>\n<table border=\"1\" class=\"dataframe\">\n  <thead>\n    <tr style=\"text-align: right;\">\n      <th></th>\n      <th>name</th>\n    </tr>\n    <tr>\n      <th>code</th>\n      <th></th>\n    </tr>\n  </thead>\n  <tbody>\n    <tr>\n      <th>01</th>\n      <td>ABRA</td>\n    </tr>\n    <tr>\n      <th>02</th>\n      <td>AGUSAN DEL NORTE</td>\n    </tr>\n    <tr>\n      <th>04</th>\n      <td>AKLAN</td>\n    </tr>\n    <tr>\n      <th>05</th>\n      <td>ALBAY</td>\n    </tr>\n    <tr>\n      <th>06</th>\n      <td>ANTIQUE</td>\n    </tr>\n    <tr>\n      <th>...</th>\n      <td>...</td>\n    </tr>\n    <tr>\n      <th>76</th>\n      <td>NCR</td>\n    </tr>\n    <tr>\n      <th>79</th>\n      <td>GUIMARAS</td>\n    </tr>\n    <tr>\n      <th>82</th>\n      <td>COMPOSTELA VALLEY</td>\n    </tr>\n    <tr>\n      <th>86</th>\n      <td>DAVAO OCCIDENTAL</td>\n    </tr>\n    <tr>\n      <th>98</th>\n      <td>COTABATO</td>\n    </tr>\n  </tbody>\n</table>\n<p>65 rows × 1 columns</p>\n</div>"
     },
     "metadata": {},
     "execution_count": 58
    }
   ],
   "source": [
    "province_codes=pd.DataFrame()\n",
    "province_codes['code']=uniques['location_code'].str[4:6]\n",
    "province_codes['name']=uniques['province']\n",
    "province_codes.drop_duplicates(subset='code', inplace=True)\n",
    "province_codes.set_index('code', inplace=True)\n",
    "province_codes.sort_index()"
   ]
  },
  {
   "cell_type": "code",
   "execution_count": 59,
   "metadata": {},
   "outputs": [
    {
     "output_type": "execute_result",
     "data": {
      "text/plain": "                                name\ncode                                \n00                    CITY OF MANILA\n01               CITY OF MANDALUYONG\n02                    CITY OF MAKATI\n03                     CITY OF PASIG\n04                 CITY OF PARAÑAQUE\n05                        PASAY CITY\n06                    CITY OF MANILA\n07                           CALAUAG\n08                         GUIGUINTO\n09                         IMUS CITY\n10                    CITY OF MANILA\n11                         SAN MATEO\n12                    CITY OF MANILA\n13                            TAYTAY\n14                         LIPA CITY\n15                             PORAC\n16    PUERTO PRINCESA CITY (CAPITAL)\n17               CEBU CITY (CAPITAL)\n18                      DAGUPAN CITY\n19           CITY OF TAGUM (CAPITAL)\n20        CITY OF SAN JOSE DEL MONTE\n21                        SAN MIGUEL\n22                              PILA\n23                       SANTA MARIA\n24                    SAN PABLO CITY\n25                 CITY OF SAN PEDRO\n26             LAPU-LAPU CITY (OPON)\n27                      SAN LEONARDO\n28                CITY OF SANTA ROSA\n29         TUGUEGARAO CITY (CAPITAL)\n30                            MIAGAO\n31                   CITY OF TANAUAN\n32                   SAN CARLOS CITY\n33                           PANGLAO\n34                      CITY OF NAGA\n35                  CITY OF SANTIAGO\n36                            TIGAON\n38                              REAL\n39                          SAMPALOC\n40                       SANTO TOMAS\n45                           SARIAYA\n46                  CITY OF URDANETA\n47                   CITY OF TAYABAS\n48                            TIAONG\n49                            UNISAN\n50                   CITY OF TALISAY",
      "text/html": "<div>\n<style scoped>\n    .dataframe tbody tr th:only-of-type {\n        vertical-align: middle;\n    }\n\n    .dataframe tbody tr th {\n        vertical-align: top;\n    }\n\n    .dataframe thead th {\n        text-align: right;\n    }\n</style>\n<table border=\"1\" class=\"dataframe\">\n  <thead>\n    <tr style=\"text-align: right;\">\n      <th></th>\n      <th>name</th>\n    </tr>\n    <tr>\n      <th>code</th>\n      <th></th>\n    </tr>\n  </thead>\n  <tbody>\n    <tr>\n      <th>00</th>\n      <td>CITY OF MANILA</td>\n    </tr>\n    <tr>\n      <th>01</th>\n      <td>CITY OF MANDALUYONG</td>\n    </tr>\n    <tr>\n      <th>02</th>\n      <td>CITY OF MAKATI</td>\n    </tr>\n    <tr>\n      <th>03</th>\n      <td>CITY OF PASIG</td>\n    </tr>\n    <tr>\n      <th>04</th>\n      <td>CITY OF PARAÑAQUE</td>\n    </tr>\n    <tr>\n      <th>05</th>\n      <td>PASAY CITY</td>\n    </tr>\n    <tr>\n      <th>06</th>\n      <td>CITY OF MANILA</td>\n    </tr>\n    <tr>\n      <th>07</th>\n      <td>CALAUAG</td>\n    </tr>\n    <tr>\n      <th>08</th>\n      <td>GUIGUINTO</td>\n    </tr>\n    <tr>\n      <th>09</th>\n      <td>IMUS CITY</td>\n    </tr>\n    <tr>\n      <th>10</th>\n      <td>CITY OF MANILA</td>\n    </tr>\n    <tr>\n      <th>11</th>\n      <td>SAN MATEO</td>\n    </tr>\n    <tr>\n      <th>12</th>\n      <td>CITY OF MANILA</td>\n    </tr>\n    <tr>\n      <th>13</th>\n      <td>TAYTAY</td>\n    </tr>\n    <tr>\n      <th>14</th>\n      <td>LIPA CITY</td>\n    </tr>\n    <tr>\n      <th>15</th>\n      <td>PORAC</td>\n    </tr>\n    <tr>\n      <th>16</th>\n      <td>PUERTO PRINCESA CITY (CAPITAL)</td>\n    </tr>\n    <tr>\n      <th>17</th>\n      <td>CEBU CITY (CAPITAL)</td>\n    </tr>\n    <tr>\n      <th>18</th>\n      <td>DAGUPAN CITY</td>\n    </tr>\n    <tr>\n      <th>19</th>\n      <td>CITY OF TAGUM (CAPITAL)</td>\n    </tr>\n    <tr>\n      <th>20</th>\n      <td>CITY OF SAN JOSE DEL MONTE</td>\n    </tr>\n    <tr>\n      <th>21</th>\n      <td>SAN MIGUEL</td>\n    </tr>\n    <tr>\n      <th>22</th>\n      <td>PILA</td>\n    </tr>\n    <tr>\n      <th>23</th>\n      <td>SANTA MARIA</td>\n    </tr>\n    <tr>\n      <th>24</th>\n      <td>SAN PABLO CITY</td>\n    </tr>\n    <tr>\n      <th>25</th>\n      <td>CITY OF SAN PEDRO</td>\n    </tr>\n    <tr>\n      <th>26</th>\n      <td>LAPU-LAPU CITY (OPON)</td>\n    </tr>\n    <tr>\n      <th>27</th>\n      <td>SAN LEONARDO</td>\n    </tr>\n    <tr>\n      <th>28</th>\n      <td>CITY OF SANTA ROSA</td>\n    </tr>\n    <tr>\n      <th>29</th>\n      <td>TUGUEGARAO CITY (CAPITAL)</td>\n    </tr>\n    <tr>\n      <th>30</th>\n      <td>MIAGAO</td>\n    </tr>\n    <tr>\n      <th>31</th>\n      <td>CITY OF TANAUAN</td>\n    </tr>\n    <tr>\n      <th>32</th>\n      <td>SAN CARLOS CITY</td>\n    </tr>\n    <tr>\n      <th>33</th>\n      <td>PANGLAO</td>\n    </tr>\n    <tr>\n      <th>34</th>\n      <td>CITY OF NAGA</td>\n    </tr>\n    <tr>\n      <th>35</th>\n      <td>CITY OF SANTIAGO</td>\n    </tr>\n    <tr>\n      <th>36</th>\n      <td>TIGAON</td>\n    </tr>\n    <tr>\n      <th>38</th>\n      <td>REAL</td>\n    </tr>\n    <tr>\n      <th>39</th>\n      <td>SAMPALOC</td>\n    </tr>\n    <tr>\n      <th>40</th>\n      <td>SANTO TOMAS</td>\n    </tr>\n    <tr>\n      <th>45</th>\n      <td>SARIAYA</td>\n    </tr>\n    <tr>\n      <th>46</th>\n      <td>CITY OF URDANETA</td>\n    </tr>\n    <tr>\n      <th>47</th>\n      <td>CITY OF TAYABAS</td>\n    </tr>\n    <tr>\n      <th>48</th>\n      <td>TIAONG</td>\n    </tr>\n    <tr>\n      <th>49</th>\n      <td>UNISAN</td>\n    </tr>\n    <tr>\n      <th>50</th>\n      <td>CITY OF TALISAY</td>\n    </tr>\n  </tbody>\n</table>\n</div>"
     },
     "metadata": {},
     "execution_count": 59
    }
   ],
   "source": [
    "city_municipality_codes=pd.DataFrame()\n",
    "city_municipality_codes['code']=uniques['location_code'].str[6:8]\n",
    "city_municipality_codes['name']=uniques['city_municipality']\n",
    "city_municipality_codes.drop_duplicates(subset='code', inplace=True)\n",
    "city_municipality_codes.set_index('code', inplace=True)\n",
    "city_municipality_codes.sort_index()"
   ]
  },
  {
   "cell_type": "code",
   "execution_count": null,
   "metadata": {},
   "outputs": [],
   "source": []
  }
 ],
 "metadata": {
  "language_info": {
   "codemirror_mode": {
    "name": "ipython",
    "version": 3
   },
   "file_extension": ".py",
   "mimetype": "text/x-python",
   "name": "python",
   "nbconvert_exporter": "python",
   "pygments_lexer": "ipython3",
   "version": "3.6.9-final"
  },
  "orig_nbformat": 2,
  "kernelspec": {
   "name": "python36964bit28dca1e930dc408e886c4b0f2278e3c5",
   "display_name": "Python 3.6.9 64-bit"
  }
 },
 "nbformat": 4,
 "nbformat_minor": 2
}