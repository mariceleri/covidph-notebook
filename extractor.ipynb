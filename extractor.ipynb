{
 "cells": [
  {
   "cell_type": "code",
   "execution_count": 16,
   "metadata": {},
   "outputs": [],
   "source": [
    "import pandas as pd"
   ]
  },
  {
   "cell_type": "code",
   "execution_count": 17,
   "metadata": {},
   "outputs": [],
   "source": [
    "excel_file='20200512.xlsx'\n",
    "df=pd.read_excel(io=excel_file, sheet_name=2)"
   ]
  },
  {
   "cell_type": "code",
   "execution_count": 18,
   "metadata": {},
   "outputs": [],
   "source": [
    "# Drop columns\n",
    "df.drop(columns=['CaseCode','Age','AgeGroup','DateDied','DateRecover','Sex','DateRepRem','DateRepConf','Admitted','CityMuniPSGC','Quarantined','HealthStatus'], inplace=True)\n",
    "# Remame columns\n",
    "df.rename(columns={'RemovalType': 'remtype','RegionRes':'reg','ProvRes':'prov','CityMunRes': 'citymun'},inplace=True)"
   ]
  },
  {
   "cell_type": "code",
   "execution_count": 19,
   "metadata": {},
   "outputs": [
    {
     "output_type": "stream",
     "name": "stdout",
     "text": "NCR                               7286\nRegion VII: Central Visayas       1677\nRegion IV-A: CALABARZON           1323\nRegion III: Central Luzon          409\nRegion XI: Davao Region            172\nRegion VI: Western Visayas         103\nRegion V: Bicol Region              67\nRegion I: Ilocos Region             63\nRegion IX: Zamboanga Peninsula      50\nCAR                                 43\nRegion II: Cagayan Valley           34\nRegion IV-B: MIMAROPA               34\nRegion X: Northern Mindanao         19\nRegion VIII: Eastern Visayas        18\nRegion XII: SOCCSKSARGEN            16\nBARMM                               11\nCARAGA                               3\nName: reg, dtype: int64\n"
    }
   ],
   "source": [
    "print(df['reg'].value_counts())"
   ]
  },
  {
   "cell_type": "code",
   "execution_count": 20,
   "metadata": {},
   "outputs": [
    {
     "output_type": "stream",
     "name": "stdout",
     "text": "NCR                6893\nCEBU PROVINCE      1666\nRIZAL               408\nLAGUNA              390\nCAVITE              306\n                   ... \nILOCOS SUR            1\nNORTHERN SAMAR        1\nBOHOL                 1\nMAGUINDANAO           1\nCAMARINES NORTE       1\nName: prov, Length: 61, dtype: int64\n"
    }
   ],
   "source": [
    "print(df['prov'].value_counts())"
   ]
  },
  {
   "cell_type": "code",
   "execution_count": 21,
   "metadata": {},
   "outputs": [
    {
     "output_type": "stream",
     "name": "stdout",
     "text": "QUEZON CITY                      1641\nCEBU CITY (CAPITAL)              1484\nCITY OF MANILA                    920\nCITY OF PARAÑAQUE                 542\nCITY OF MAKATI                    517\n                                 ... \nENRIQUE B. MAGALONA (SARAVIA)       1\nLAUR                                1\nCITY OF CATBALOGAN (CAPITAL)        1\nCITY OF VALENCIA                    1\nLUTAYAN                             1\nName: citymun, Length: 365, dtype: int64\n"
    }
   ],
   "source": [
    "print(df['citymun'].value_counts())"
   ]
  },
  {
   "cell_type": "code",
   "execution_count": null,
   "metadata": {},
   "outputs": [],
   "source": []
  }
 ],
 "metadata": {
  "language_info": {
   "codemirror_mode": {
    "name": "ipython",
    "version": 3
   },
   "file_extension": ".py",
   "mimetype": "text/x-python",
   "name": "python",
   "nbconvert_exporter": "python",
   "pygments_lexer": "ipython3",
   "version": "3.6.9-final"
  },
  "orig_nbformat": 2,
  "kernelspec": {
   "name": "python36964bit28dca1e930dc408e886c4b0f2278e3c5",
   "display_name": "Python 3.6.9 64-bit"
  }
 },
 "nbformat": 4,
 "nbformat_minor": 2
}