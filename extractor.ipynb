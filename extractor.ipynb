{
 "cells": [
  {
   "cell_type": "code",
   "execution_count": 1,
   "metadata": {},
   "outputs": [],
   "source": [
    "import pandas as pd"
   ]
  },
  {
   "cell_type": "code",
   "execution_count": 22,
   "metadata": {},
   "outputs": [],
   "source": [
    "excel_file='20200512.xlsx'\n",
    "raw=pd.read_excel(io=excel_file, sheet_name=2)"
   ]
  },
  {
   "cell_type": "code",
   "execution_count": 24,
   "metadata": {},
   "outputs": [],
   "source": [
    "# Drop columns\n",
    "dropped=raw.drop(columns=['CaseCode','Age','AgeGroup','DateDied','DateRecover','Sex','DateRepRem','DateRepConf','Admitted','Quarantined','HealthStatus'])\n",
    "# Remame columns\n",
    "renamed=dropped.rename(columns={'RemovalType':'removal_type','RegionRes':'region','ProvRes':'province','CityMunRes':'city_municipality','CityMuniPSGC':'location_code'})"
   ]
  },
  {
   "cell_type": "code",
   "execution_count": 47,
   "metadata": {},
   "outputs": [],
   "source": [
    "# This section will extract the codes and create a mapping"
   ]
  },
  {
   "cell_type": "code",
   "execution_count": 52,
   "metadata": {},
   "outputs": [],
   "source": [
    "uniques=renamed.drop_duplicates(subset='location_code')\n",
    "uniques.dropna(subset=['location_code'], inplace=True)"
   ]
  },
  {
   "cell_type": "code",
   "execution_count": 51,
   "metadata": {},
   "outputs": [
    {
     "output_type": "execute_result",
     "data": {
      "text/plain": "                                name\ncode                                \n01           Region I: Ilocos Region\n02         Region II: Cagayan Valley\n03         Region III: Central Luzon\n04           Region IV-A: CALABARZON\n05            Region V: Bicol Region\n06        Region VI: Western Visayas\n07       Region VII: Central Visayas\n08      Region VIII: Eastern Visayas\n09    Region IX: Zamboanga Peninsula\n10       Region X: Northern Mindanao\n11           Region XI: Davao Region\n12          Region XII: SOCCSKSARGEN\n13                               NCR\n14                               CAR\n15                             BARMM\n16                            CARAGA\n17             Region IV-B: MIMAROPA",
      "text/html": "<div>\n<style scoped>\n    .dataframe tbody tr th:only-of-type {\n        vertical-align: middle;\n    }\n\n    .dataframe tbody tr th {\n        vertical-align: top;\n    }\n\n    .dataframe thead th {\n        text-align: right;\n    }\n</style>\n<table border=\"1\" class=\"dataframe\">\n  <thead>\n    <tr style=\"text-align: right;\">\n      <th></th>\n      <th>name</th>\n    </tr>\n    <tr>\n      <th>code</th>\n      <th></th>\n    </tr>\n  </thead>\n  <tbody>\n    <tr>\n      <th>01</th>\n      <td>Region I: Ilocos Region</td>\n    </tr>\n    <tr>\n      <th>02</th>\n      <td>Region II: Cagayan Valley</td>\n    </tr>\n    <tr>\n      <th>03</th>\n      <td>Region III: Central Luzon</td>\n    </tr>\n    <tr>\n      <th>04</th>\n      <td>Region IV-A: CALABARZON</td>\n    </tr>\n    <tr>\n      <th>05</th>\n      <td>Region V: Bicol Region</td>\n    </tr>\n    <tr>\n      <th>06</th>\n      <td>Region VI: Western Visayas</td>\n    </tr>\n    <tr>\n      <th>07</th>\n      <td>Region VII: Central Visayas</td>\n    </tr>\n    <tr>\n      <th>08</th>\n      <td>Region VIII: Eastern Visayas</td>\n    </tr>\n    <tr>\n      <th>09</th>\n      <td>Region IX: Zamboanga Peninsula</td>\n    </tr>\n    <tr>\n      <th>10</th>\n      <td>Region X: Northern Mindanao</td>\n    </tr>\n    <tr>\n      <th>11</th>\n      <td>Region XI: Davao Region</td>\n    </tr>\n    <tr>\n      <th>12</th>\n      <td>Region XII: SOCCSKSARGEN</td>\n    </tr>\n    <tr>\n      <th>13</th>\n      <td>NCR</td>\n    </tr>\n    <tr>\n      <th>14</th>\n      <td>CAR</td>\n    </tr>\n    <tr>\n      <th>15</th>\n      <td>BARMM</td>\n    </tr>\n    <tr>\n      <th>16</th>\n      <td>CARAGA</td>\n    </tr>\n    <tr>\n      <th>17</th>\n      <td>Region IV-B: MIMAROPA</td>\n    </tr>\n  </tbody>\n</table>\n</div>"
     },
     "metadata": {},
     "execution_count": 51
    }
   ],
   "source": [
    "region_codes=pd.DataFrame()\n",
    "region_codes['code']=uniques['location_code'].str[2:4]\n",
    "region_codes['name']=uniques['region']\n",
    "region_codes.drop_duplicates(subset='code', inplace=True)\n",
    "region_codes.set_index('code', inplace=True)\n",
    "region_codes.sort_index()"
   ]
  },
  {
   "cell_type": "code",
   "execution_count": 55,
   "metadata": {},
   "outputs": [
    {
     "output_type": "execute_result",
     "data": {
      "text/plain": "                   name\ncode                   \n01           PANGASINAN\n02              CAGAYAN\n03             PAMPANGA\n04               LAGUNA\n05                ALBAY\n06              ANTIQUE\n07        CEBU PROVINCE\n08                SAMAR\n09    ZAMBOANGA DEL SUR\n10     MISAMIS ORIENTAL\n11        DAVAO DEL SUR\n12             COTABATO\n13                  NCR\n14              BENGUET\n15        LANAO DEL SUR\n16     AGUSAN DEL NORTE\n17              PALAWAN",
      "text/html": "<div>\n<style scoped>\n    .dataframe tbody tr th:only-of-type {\n        vertical-align: middle;\n    }\n\n    .dataframe tbody tr th {\n        vertical-align: top;\n    }\n\n    .dataframe thead th {\n        text-align: right;\n    }\n</style>\n<table border=\"1\" class=\"dataframe\">\n  <thead>\n    <tr style=\"text-align: right;\">\n      <th></th>\n      <th>name</th>\n    </tr>\n    <tr>\n      <th>code</th>\n      <th></th>\n    </tr>\n  </thead>\n  <tbody>\n    <tr>\n      <th>01</th>\n      <td>PANGASINAN</td>\n    </tr>\n    <tr>\n      <th>02</th>\n      <td>CAGAYAN</td>\n    </tr>\n    <tr>\n      <th>03</th>\n      <td>PAMPANGA</td>\n    </tr>\n    <tr>\n      <th>04</th>\n      <td>LAGUNA</td>\n    </tr>\n    <tr>\n      <th>05</th>\n      <td>ALBAY</td>\n    </tr>\n    <tr>\n      <th>06</th>\n      <td>ANTIQUE</td>\n    </tr>\n    <tr>\n      <th>07</th>\n      <td>CEBU PROVINCE</td>\n    </tr>\n    <tr>\n      <th>08</th>\n      <td>SAMAR</td>\n    </tr>\n    <tr>\n      <th>09</th>\n      <td>ZAMBOANGA DEL SUR</td>\n    </tr>\n    <tr>\n      <th>10</th>\n      <td>MISAMIS ORIENTAL</td>\n    </tr>\n    <tr>\n      <th>11</th>\n      <td>DAVAO DEL SUR</td>\n    </tr>\n    <tr>\n      <th>12</th>\n      <td>COTABATO</td>\n    </tr>\n    <tr>\n      <th>13</th>\n      <td>NCR</td>\n    </tr>\n    <tr>\n      <th>14</th>\n      <td>BENGUET</td>\n    </tr>\n    <tr>\n      <th>15</th>\n      <td>LANAO DEL SUR</td>\n    </tr>\n    <tr>\n      <th>16</th>\n      <td>AGUSAN DEL NORTE</td>\n    </tr>\n    <tr>\n      <th>17</th>\n      <td>PALAWAN</td>\n    </tr>\n  </tbody>\n</table>\n</div>"
     },
     "metadata": {},
     "execution_count": 55
    }
   ],
   "source": [
    "province_codes=pd.DataFrame()\n",
    "province_codes['code']=uniques['location_code'].str[2:4]\n",
    "province_codes['name']=uniques['province']\n",
    "province_codes.drop_duplicates(subset='code', inplace=True)\n",
    "province_codes.set_index('code', inplace=True)\n",
    "province_codes.sort_index()"
   ]
  },
  {
   "cell_type": "code",
   "execution_count": 57,
   "metadata": {},
   "outputs": [
    {
     "output_type": "execute_result",
     "data": {
      "text/plain": "                                name\ncode                                \n01                   SAN CARLOS CITY\n02         TUGUEGARAO CITY (CAPITAL)\n03                           CANDABA\n04                 CITY OF SAN PEDRO\n05            LEGAZPI CITY (CAPITAL)\n06                            CALUYA\n07               CEBU CITY (CAPITAL)\n08                         TARANGNAN\n09                    ZAMBOANGA CITY\n10     CAGAYAN DE ORO CITY (CAPITAL)\n11                        DAVAO CITY\n12                     COTABATO CITY\n13                 CITY OF PARAÑAQUE\n14                       BAGUIO CITY\n15             MARAWI CITY (CAPITAL)\n16             BUTUAN CITY (CAPITAL)\n17    PUERTO PRINCESA CITY (CAPITAL)",
      "text/html": "<div>\n<style scoped>\n    .dataframe tbody tr th:only-of-type {\n        vertical-align: middle;\n    }\n\n    .dataframe tbody tr th {\n        vertical-align: top;\n    }\n\n    .dataframe thead th {\n        text-align: right;\n    }\n</style>\n<table border=\"1\" class=\"dataframe\">\n  <thead>\n    <tr style=\"text-align: right;\">\n      <th></th>\n      <th>name</th>\n    </tr>\n    <tr>\n      <th>code</th>\n      <th></th>\n    </tr>\n  </thead>\n  <tbody>\n    <tr>\n      <th>01</th>\n      <td>SAN CARLOS CITY</td>\n    </tr>\n    <tr>\n      <th>02</th>\n      <td>TUGUEGARAO CITY (CAPITAL)</td>\n    </tr>\n    <tr>\n      <th>03</th>\n      <td>CANDABA</td>\n    </tr>\n    <tr>\n      <th>04</th>\n      <td>CITY OF SAN PEDRO</td>\n    </tr>\n    <tr>\n      <th>05</th>\n      <td>LEGAZPI CITY (CAPITAL)</td>\n    </tr>\n    <tr>\n      <th>06</th>\n      <td>CALUYA</td>\n    </tr>\n    <tr>\n      <th>07</th>\n      <td>CEBU CITY (CAPITAL)</td>\n    </tr>\n    <tr>\n      <th>08</th>\n      <td>TARANGNAN</td>\n    </tr>\n    <tr>\n      <th>09</th>\n      <td>ZAMBOANGA CITY</td>\n    </tr>\n    <tr>\n      <th>10</th>\n      <td>CAGAYAN DE ORO CITY (CAPITAL)</td>\n    </tr>\n    <tr>\n      <th>11</th>\n      <td>DAVAO CITY</td>\n    </tr>\n    <tr>\n      <th>12</th>\n      <td>COTABATO CITY</td>\n    </tr>\n    <tr>\n      <th>13</th>\n      <td>CITY OF PARAÑAQUE</td>\n    </tr>\n    <tr>\n      <th>14</th>\n      <td>BAGUIO CITY</td>\n    </tr>\n    <tr>\n      <th>15</th>\n      <td>MARAWI CITY (CAPITAL)</td>\n    </tr>\n    <tr>\n      <th>16</th>\n      <td>BUTUAN CITY (CAPITAL)</td>\n    </tr>\n    <tr>\n      <th>17</th>\n      <td>PUERTO PRINCESA CITY (CAPITAL)</td>\n    </tr>\n  </tbody>\n</table>\n</div>"
     },
     "metadata": {},
     "execution_count": 57
    }
   ],
   "source": [
    "city_municipality_codes=pd.DataFrame()\n",
    "city_municipality_codes['code']=uniques['location_code'].str[2:4]\n",
    "city_municipality_codes['name']=uniques['city_municipality']\n",
    "city_municipality_codes.drop_duplicates(subset='code', inplace=True)\n",
    "city_municipality_codes.set_index('code', inplace=True)\n",
    "city_municipality_codes.sort_index()"
   ]
  },
  {
   "cell_type": "code",
   "execution_count": null,
   "metadata": {},
   "outputs": [],
   "source": []
  }
 ],
 "metadata": {
  "language_info": {
   "codemirror_mode": {
    "name": "ipython",
    "version": 3
   },
   "file_extension": ".py",
   "mimetype": "text/x-python",
   "name": "python",
   "nbconvert_exporter": "python",
   "pygments_lexer": "ipython3",
   "version": "3.6.9-final"
  },
  "orig_nbformat": 2,
  "kernelspec": {
   "name": "python36964bit28dca1e930dc408e886c4b0f2278e3c5",
   "display_name": "Python 3.6.9 64-bit"
  }
 },
 "nbformat": 4,
 "nbformat_minor": 2
}